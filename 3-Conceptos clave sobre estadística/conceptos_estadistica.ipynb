{
 "metadata": {
  "language_info": {
   "codemirror_mode": {
    "name": "ipython",
    "version": 3
   },
   "file_extension": ".py",
   "mimetype": "text/x-python",
   "name": "python",
   "nbconvert_exporter": "python",
   "pygments_lexer": "ipython3",
   "version": "3.8.8-final"
  },
  "orig_nbformat": 2,
  "kernelspec": {
   "name": "python388jvsc74a57bd0c72a629dba5ae9edebcad565c17c3988d814021371aabb3db62cb04d2b10dbfe",
   "display_name": "Python 3.8.8 64-bit (conda)"
  }
 },
 "nbformat": 4,
 "nbformat_minor": 2,
 "cells": [
  {
   "cell_type": "code",
   "execution_count": 1,
   "metadata": {},
   "outputs": [],
   "source": [
    "import numpy as numpy\n",
    "import datetime\n",
    "from datetime import date"
   ]
  },
  {
   "cell_type": "code",
   "execution_count": 5,
   "metadata": {},
   "outputs": [
    {
     "output_type": "execute_result",
     "data": {
      "text/plain": [
       "str"
      ]
     },
     "metadata": {},
     "execution_count": 5
    }
   ],
   "source": [
    "type('1')\n",
    "type(0)\n",
    "type(1.1+1)\n",
    "type('1.1'+'1')"
   ]
  },
  {
   "cell_type": "code",
   "execution_count": 10,
   "metadata": {},
   "outputs": [
    {
     "output_type": "execute_result",
     "data": {
      "text/plain": [
       "6"
      ]
     },
     "metadata": {},
     "execution_count": 10
    }
   ],
   "source": [
    "1 + 1\n",
    "1 - 1\n",
    "1/2\n",
    "3 % 2\n",
    "3**2\n",
    "3*2"
   ]
  },
  {
   "cell_type": "code",
   "execution_count": 14,
   "metadata": {},
   "outputs": [
    {
     "output_type": "execute_result",
     "data": {
      "text/plain": [
       "True"
      ]
     },
     "metadata": {},
     "execution_count": 14
    }
   ],
   "source": [
    "(1 > 2) & (1 < 2)\n",
    "(1 > 2) | (1 < 2)"
   ]
  },
  {
   "cell_type": "code",
   "execution_count": 17,
   "metadata": {},
   "outputs": [
    {
     "output_type": "execute_result",
     "data": {
      "text/plain": [
       "2"
      ]
     },
     "metadata": {},
     "execution_count": 17
    }
   ],
   "source": [
    "list1 = ['1',0,[1,2]]\n",
    "list1[2][1]"
   ]
  },
  {
   "cell_type": "code",
   "execution_count": 19,
   "metadata": {},
   "outputs": [],
   "source": [
    "universo = ['cara', 'sello']"
   ]
  },
  {
   "cell_type": "code",
   "execution_count": 20,
   "metadata": {},
   "outputs": [],
   "source": [
    "p_cara = 1/2"
   ]
  },
  {
   "cell_type": "code",
   "execution_count": 70,
   "metadata": {},
   "outputs": [
    {
     "output_type": "execute_result",
     "data": {
      "text/plain": [
       "4"
      ]
     },
     "metadata": {},
     "execution_count": 70
    }
   ],
   "source": [
    "from scipy.stats import bernoulli\n",
    "\n",
    "universo[bernoulli.rvs(p=p_cara)]\n",
    "\n",
    "sum(bernoulli.rvs(p=p_cara, size=10))"
   ]
  },
  {
   "source": [
    "from scipy.stats import binom"
   ],
   "cell_type": "code",
   "metadata": {},
   "execution_count": 61,
   "outputs": []
  },
  {
   "cell_type": "code",
   "execution_count": 118,
   "metadata": {},
   "outputs": [
    {
     "output_type": "execute_result",
     "data": {
      "text/plain": [
       "array([4, 4, 4, 3, 2, 7, 3, 8, 4, 6, 2, 5, 3, 5, 3, 5, 5, 3, 7, 5, 5, 6,\n",
       "       5, 4, 2, 5, 6, 6, 4, 4, 5, 5, 6, 3, 5, 4, 5, 5, 4, 5, 4, 6, 9, 6,\n",
       "       3, 7, 3, 3, 8, 2, 6, 4, 3, 4, 7, 6, 5, 4, 2, 6, 6, 4, 4, 4, 7, 5,\n",
       "       8, 4, 5, 4, 4, 5, 6, 7, 5, 2, 5, 6, 7, 3, 6, 5, 4, 5, 6, 6, 6, 4,\n",
       "       3, 2, 4, 6, 6, 3, 3, 3, 6, 7, 5, 6])"
      ]
     },
     "metadata": {},
     "execution_count": 118
    }
   ],
   "source": [
    "binom.rvs(p=p_cara, n=10, size=100)\n"
   ]
  },
  {
   "cell_type": "code",
   "execution_count": 121,
   "metadata": {},
   "outputs": [
    {
     "output_type": "execute_result",
     "data": {
      "text/plain": [
       "5    0.24\n",
       "4    0.20\n",
       "6    0.19\n",
       "3    0.15\n",
       "7    0.12\n",
       "8    0.05\n",
       "2    0.02\n",
       "9    0.02\n",
       "1    0.01\n",
       "dtype: float64"
      ]
     },
     "metadata": {},
     "execution_count": 121
    }
   ],
   "source": [
    "import pandas as pd \n",
    "pd.Series(binom.rvs(p=p_cara, n=10, size=100)).value_counts()/100"
   ]
  }
 ]
}